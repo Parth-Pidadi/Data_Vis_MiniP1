{
 "cells": [
  {
   "cell_type": "code",
   "execution_count": 3,
   "metadata": {},
   "outputs": [
    {
     "name": "stdout",
     "output_type": "stream",
     "text": [
      "Number of rows: (11914, 16)\n"
     ]
    }
   ],
   "source": [
    "import pandas as pd\n",
    "\n",
    "# Load the dataset\n",
    "df = pd.read_csv('carmsrp.csv')  # Replace with your file name\n",
    "\n",
    "# Check the number of rows\n",
    "num_rows = df.shape\n",
    "\n",
    "print(f\"Number of rows: {num_rows}\")"
   ]
  },
  {
   "cell_type": "code",
   "execution_count": 2,
   "metadata": {},
   "outputs": [
    {
     "name": "stdout",
     "output_type": "stream",
     "text": [
      "Number of rows after cleaning: 6236\n"
     ]
    }
   ],
   "source": [
    "import pandas as pd\n",
    "\n",
    "# Load the dataset\n",
    "df = pd.read_csv('city_day.csv')  # Replace with your file name\n",
    "\n",
    "# Remove rows where any column has missing data\n",
    "df_cleaned = df.dropna()\n",
    "\n",
    "# Check the number of rows after cleaning\n",
    "print(f\"Number of rows after cleaning: {df_cleaned.shape[0]}\")\n",
    "\n",
    "# Save the cleaned dataset to a new file (optional)\n",
    "\n",
    "df_cleaned.to_csv('city_day_cleaned.csv', index=False)"
   ]
  },
  {
   "cell_type": "code",
   "execution_count": 3,
   "metadata": {},
   "outputs": [
    {
     "name": "stdout",
     "output_type": "stream",
     "text": [
      "Number of rows in the sampled dataset: 750\n"
     ]
    }
   ],
   "source": [
    "# Take a random sample of 750 rows\n",
    "df_sample = df_cleaned.sample(n=750, random_state=42)  # random_state for reproducibility\n",
    "\n",
    "# Save the sampled dataset to a new file (optional)\n",
    "df_sample.to_csv('city_day_sample.csv', index=False)\n",
    "\n",
    "# Check the number of rows in the sampled dataset\n",
    "print(f\"Number of rows in the sampled dataset: {df_sample.shape[0]}\")"
   ]
  }
 ],
 "metadata": {
  "kernelspec": {
   "display_name": "Python 3",
   "language": "python",
   "name": "python3"
  },
  "language_info": {
   "codemirror_mode": {
    "name": "ipython",
    "version": 3
   },
   "file_extension": ".py",
   "mimetype": "text/x-python",
   "name": "python",
   "nbconvert_exporter": "python",
   "pygments_lexer": "ipython3",
   "version": "3.10.4"
  }
 },
 "nbformat": 4,
 "nbformat_minor": 2
}
